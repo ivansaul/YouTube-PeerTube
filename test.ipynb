{
 "cells": [
  {
   "cell_type": "code",
   "execution_count": null,
   "metadata": {},
   "outputs": [],
   "source": []
  },
  {
   "cell_type": "code",
   "execution_count": 2,
   "metadata": {},
   "outputs": [
    {
     "data": {
      "text/plain": [
       "'/home/jovyan/repos/YouTube-PeerTube/YouTube Rewind 2019 For the Record  YouTubeRewind.mp4'"
      ]
     },
     "execution_count": 2,
     "metadata": {},
     "output_type": "execute_result"
    }
   ],
   "source": [
    "from pytube import YouTube\n",
    "from pytube import extract\n",
    "from pytube import YouTube\n",
    "YouTube('https://youtu.be/2lAe1cqCOXo').streams.first().download()\n",
    "yt = YouTube('http://youtube.com/watch?v=2lAe1cqCOXo')\n",
    "yt.streams.filter(file_extension='mp4').get_highest_resolution().download()"
   ]
  },
  {
   "cell_type": "code",
   "execution_count": 17,
   "metadata": {},
   "outputs": [],
   "source": [
    "from pytube import Playlist\n",
    "pl_url='https://www.youtube.com/playlist?list=PLN-5GpeEeXAtkIkR6hVJWhWgd4gYhhaBJ'\n",
    "#pl_url='https://www.youtube.com/playlist?list=PLS1QulWo1RIaJECMeUT4LFwJ-ghgoSH6n'\n",
    "p = Playlist(pl_url)"
   ]
  },
  {
   "cell_type": "markdown",
   "metadata": {
    "jupyter": {
     "outputs_hidden": true
    }
   },
   "source": [
    "print(f'Downloading: {p.title}')\n",
    "for video in p.videos:\n",
    "    video.streams.first().download()"
   ]
  },
  {
   "cell_type": "code",
   "execution_count": 11,
   "metadata": {},
   "outputs": [
    {
     "name": "stdout",
     "output_type": "stream",
     "text": [
      "Downloading: VLOGS\n",
      "-----------\n",
      "TikTok Vlog Compilation\n",
      "Florida Check Cause I Just Moved Here\n",
      "Girl has Climate Change Meltdown in the Woods\n",
      "Beat to the GODS ($200 Ulta Haul)\n",
      "Unboxing BOTH my Undergrad Degrees (luxury paper haul)\n"
     ]
    }
   ],
   "source": [
    "print(f'Downloading: {p.title}')\n",
    "print('-----------')\n",
    "i=0\n",
    "for yt in p.videos:\n",
    "    i=i+1\n",
    "    title=yt.title\n",
    "    #description=yt.description\n",
    "    print(title)\n",
    "    \n",
    "    if i>4:\n",
    "        break"
   ]
  },
  {
   "cell_type": "code",
   "execution_count": 20,
   "metadata": {},
   "outputs": [
    {
     "data": {
      "text/plain": [
       "['https://www.youtube.com/watch?v=9T-e8e85VFw',\n",
       " 'https://www.youtube.com/watch?v=m8ZBfVGcfAs',\n",
       " 'https://www.youtube.com/watch?v=tq7YAVlFihM',\n",
       " 'https://www.youtube.com/watch?v=_cGUqRJyxGw',\n",
       " 'https://www.youtube.com/watch?v=qOzaNfS5YrQ',\n",
       " 'https://www.youtube.com/watch?v=_KG8wB2CsQk',\n",
       " 'https://www.youtube.com/watch?v=i8tl4E-9BZ4',\n",
       " 'https://www.youtube.com/watch?v=9e9GzpFdLHg',\n",
       " 'https://www.youtube.com/watch?v=vTDvveut2Ns',\n",
       " 'https://www.youtube.com/watch?v=MLU1J0fWAzc',\n",
       " 'https://www.youtube.com/watch?v=QSY7RMN_VPA']"
      ]
     },
     "execution_count": 20,
     "metadata": {},
     "output_type": "execute_result"
    }
   ],
   "source": [
    "p.video_urls"
   ]
  },
  {
   "cell_type": "code",
   "execution_count": 26,
   "metadata": {},
   "outputs": [
    {
     "name": "stdout",
     "output_type": "stream",
     "text": [
      "Downloading: How Low Can You Go\n",
      "-----------\n",
      "1 LP How Low Can You Go Official Music Video  https://www.youtube.com/watch?v=W0xs3AVEisE\n",
      "2 LP How Low Can You Go Behind The Scenes  https://www.youtube.com/watch?v=wLiQdwkWnKE\n",
      "3 LP How Low Can You Go from Nov 14 2020 Livestream Concert  https://www.youtube.com/watch?v=zBRUCzag7bM\n"
     ]
    }
   ],
   "source": [
    "import re\n",
    "from pytube import YouTube\n",
    "from pytube import extract\n",
    "from pytube import Playlist\n",
    "\n",
    "#summer\n",
    "#pl_url='https://www.youtube.com/playlist?list=PLN-5GpeEeXAtkIkR6hVJWhWgd4gYhhaBJ'\n",
    "#python\n",
    "#pl_url='https://www.youtube.com/playlist?list=PLS1QulWo1RIaJECMeUT4LFwJ-ghgoSH6n'\n",
    "#music\n",
    "pl_url='https://www.youtube.com/watch?v=W0xs3AVEisE&list=PLyv7j-kfoPR92V1r_fJ7ykxHLkAzZvP6z'\n",
    "p = Playlist(pl_url)\n",
    "\n",
    "print(f'Downloading: {p.title}')\n",
    "print('-----------')\n",
    "i=0\n",
    "for url in p.video_urls:\n",
    "    #try:\n",
    "        i=i+1\n",
    "        yt = YouTube(url)\n",
    "        title=yt.title\n",
    "        title=re.sub(r\"[^a-zA-Z0-9]+\", ' ', title)\n",
    "        print(i,title,url,end='\\n')\n",
    "        if i>15:\n",
    "            break\n",
    "    #except Exception as e:\n",
    "    #    print(e)\n",
    "    \n",
    "    "
   ]
  },
  {
   "cell_type": "code",
   "execution_count": null,
   "metadata": {},
   "outputs": [],
   "source": [
    "2+3"
   ]
  },
  {
   "cell_type": "code",
   "execution_count": null,
   "metadata": {},
   "outputs": [],
   "source": [
    "p.videos"
   ]
  },
  {
   "cell_type": "code",
   "execution_count": null,
   "metadata": {},
   "outputs": [],
   "source": [
    ">>> for url in p.video_urls[:3]:\n",
    ">>>     print(url)"
   ]
  },
  {
   "cell_type": "code",
   "execution_count": null,
   "metadata": {},
   "outputs": [],
   "source": [
    "#yt = YouTube(url)"
   ]
  },
  {
   "cell_type": "code",
   "execution_count": null,
   "metadata": {},
   "outputs": [],
   "source": [
    "p.title"
   ]
  }
 ],
 "metadata": {
  "kernelspec": {
   "display_name": "venvPyTube",
   "language": "python",
   "name": "venvpytube"
  },
  "language_info": {
   "codemirror_mode": {
    "name": "ipython",
    "version": 3
   },
   "file_extension": ".py",
   "mimetype": "text/x-python",
   "name": "python",
   "nbconvert_exporter": "python",
   "pygments_lexer": "ipython3",
   "version": "3.7.8"
  }
 },
 "nbformat": 4,
 "nbformat_minor": 4
}
