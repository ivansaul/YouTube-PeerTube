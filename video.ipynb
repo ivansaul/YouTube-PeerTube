{
 "cells": [
  {
   "cell_type": "markdown",
   "metadata": {},
   "source": [
    "## **Modules**"
   ]
  },
  {
   "cell_type": "code",
   "execution_count": 1,
   "metadata": {},
   "outputs": [],
   "source": [
    "import os\n",
    "import re\n",
    "import toml\n",
    "import pandas as pd\n",
    "from sty import fg, rs\n",
    "from pytube import YouTube\n",
    "from pytube import extract"
   ]
  },
  {
   "cell_type": "markdown",
   "metadata": {},
   "source": [
    "## **PeerTube secrets**"
   ]
  },
  {
   "cell_type": "code",
   "execution_count": 2,
   "metadata": {},
   "outputs": [],
   "source": [
    "config = toml.load(\"config.toml\")\n",
    "\n",
    "username = config['peertube_username']\n",
    "password = config['peertube_password']\n",
    "instance = config['peertube_instance']\n",
    "channel = config['peertube_channel']\n",
    "category = config['peertube_channel_category']\n",
    "language = config['default_lang']\n",
    "delete_videos = config['delete_videos'].lower() in ['true','yes']\n",
    "privacy = config['privacy_videos']"
   ]
  },
  {
   "cell_type": "markdown",
   "metadata": {},
   "source": [
    "### Make PeerTube secrets for `prismedia`"
   ]
  },
  {
   "cell_type": "code",
   "execution_count": 3,
   "metadata": {},
   "outputs": [],
   "source": [
    "import requests\n",
    "response = requests.get(f'{instance}/api/v1/oauth-clients/local')\n",
    "secrets = response.json() #print(secrets)\n",
    "\n",
    "#write secrets file\n",
    "f = open(\"peertube_secret\", \"w\")\n",
    "f.write(\"[peertube]\\n\")\n",
    "f.write(f\"client_id = {secrets['client_id']}\\n\")\n",
    "f.write(f\"client_secret = {secrets['client_secret']}\\n\")\n",
    "f.write(f\"username = {username}\\n\")\n",
    "f.write(f\"password = {password}\\n\")\n",
    "f.write(f\"peertube_url = {instance}\\n\")\n",
    "f.write(\"OAUTHLIB_INSECURE_TRANSPORT = '0'\")\n",
    "f.close()"
   ]
  },
  {
   "cell_type": "markdown",
   "metadata": {},
   "source": [
    "## **Functions**"
   ]
  },
  {
   "cell_type": "code",
   "execution_count": 4,
   "metadata": {},
   "outputs": [],
   "source": [
    "def down(url, output_path):\n",
    "    yt = YouTube(url)\n",
    "    title=yt.title\n",
    "    #title=re.sub('[\\\\\\:<>|/*\\\"]', '_', title)\n",
    "    title=re.sub(r\"[^a-zA-Z0-9]+\", ' ', title)\n",
    "    video=yt.streams.get_highest_resolution()\n",
    "    video.download(output_path= output_path, filename=title)\n",
    "\n",
    "def upl(file_path, url, channel, play_list, category, language, privacy):\n",
    "    yt = YouTube(url)\n",
    "    title=yt.title\n",
    "    #title=re.sub('[\\\\\\:<>|/*\\\"]', '_', title)\n",
    "    title=re.sub(r\"[^a-zA-Z0-9]+\", ' ', title)\n",
    "    os.system(f'prismedia --file=\"{file_path}/{title}.mp4\" --platform=peertube --privacy=\"{privacy}\" --category=\"{category}\" --language=\"{language}\" --channel=\"{channel}\" --playlist=\"{play_list}\" --channelCreate --playlistCreate')\n",
    "\n",
    "def get_id(url):\n",
    "    return extract.video_id(url)\n",
    "\n",
    "def del_folder(path_folder):\n",
    "    import shutil\n",
    "    shutil.rmtree(path_folder)"
   ]
  },
  {
   "cell_type": "markdown",
   "metadata": {},
   "source": [
    "## **===============================**"
   ]
  },
  {
   "cell_type": "markdown",
   "metadata": {},
   "source": [
    "## **Input(playlist name)**"
   ]
  },
  {
   "cell_type": "code",
   "execution_count": 5,
   "metadata": {},
   "outputs": [
    {
     "name": "stdin",
     "output_type": "stream",
     "text": [
      "Please type playlist name to upload videos:  folk\n"
     ]
    }
   ],
   "source": [
    "#play_list='rock'\n",
    "play_list=input('Please type playlist name to upload videos: ')"
   ]
  },
  {
   "cell_type": "code",
   "execution_count": 6,
   "metadata": {},
   "outputs": [],
   "source": [
    "output_path = f'data/{channel}/{play_list}'\n",
    "csv_file = f'data/{channel}/{play_list}.csv'"
   ]
  },
  {
   "cell_type": "code",
   "execution_count": 7,
   "metadata": {},
   "outputs": [],
   "source": [
    "import errno\n",
    "try:\n",
    "    os.makedirs(f'data/{channel}/{play_list}')\n",
    "except OSError as e:\n",
    "    if e.errno != errno.EEXIST:\n",
    "        raise"
   ]
  },
  {
   "cell_type": "code",
   "execution_count": 8,
   "metadata": {},
   "outputs": [],
   "source": [
    "#verify if csv file exist or not\n",
    "if not os.path.isfile(csv_file):\n",
    "    # Create DataFrame \n",
    "    df = pd.DataFrame({'id':[]})\n",
    "    df.to_csv(csv_file, index=False)"
   ]
  },
  {
   "cell_type": "markdown",
   "metadata": {},
   "source": [
    "## **Download video from YouTube**"
   ]
  },
  {
   "cell_type": "code",
   "execution_count": 26,
   "metadata": {},
   "outputs": [
    {
     "name": "stdout",
     "output_type": "stream",
     "text": [
      "\u001b[34m[1 / 4]\u001b[39m\n",
      "\u001b[33mh1v3nu1YOAA : Este video ya fue subudo anteriormente\u001b[39m\n",
      " \n",
      "\u001b[34m[2 / 4]\u001b[39m\n",
      "\u001b[33m9cEpvFWxbIE : Este video ya fue subudo anteriormente\u001b[39m\n",
      " \n",
      "\u001b[34m[3 / 4]\u001b[39m\n",
      "\u001b[31mSome unexpected error occurred : https://youtu.be/h1v3nu1584Y\u001b[39m\n",
      "\u001b[31mh1v3nu1584Y is unavailable\u001b[39m\n",
      " \n",
      "\u001b[34m[4 / 4]\u001b[39m\n",
      "\u001b[33meFtiwNUDIcs : Este video ya fue subudo anteriormente\u001b[39m\n",
      " \n"
     ]
    }
   ],
   "source": [
    "with open('video.txt') as f:\n",
    "    urls = f.readlines()\n",
    "\n",
    "urls = [x.strip() for x in urls]\n",
    "urls = list(filter(None, urls))\n",
    "\n",
    "i,n=1,len(urls)\n",
    "for url in urls:\n",
    "    print(fg.blue + f'[{i} / {n}]' + fg.rs)\n",
    "    try:\n",
    "        yt_id=get_id(url)\n",
    "        df=pd.read_csv(csv_file)\n",
    "    \n",
    "        if yt_id in df['id'].values:\n",
    "            print(fg.yellow + f'{yt_id} : This video was previously uploaded' + fg.rs)\n",
    "        else:\n",
    "            try:\n",
    "                #download / upload video\n",
    "                down(url,output_path)\n",
    "                print(fg.green + f'{yt_id} : Video Downloaded Successfully' + fg.rs)\n",
    "                upl(output_path, url, channel, play_list, category, language, privacy)\n",
    "                #update csv\n",
    "                df = df.append({'id':yt_id}, ignore_index=True)\n",
    "                df.to_csv(csv_file, index=False)        \n",
    "                print(fg.green + f'{yt_id} : Video Uploaded Successfully' + fg.rs)\n",
    "            except Exception as e:\n",
    "                print(fg.red + f'Some unexpected error occurred : https://youtu.be/{yt_id}' + fg.rs)\n",
    "                print(fg.red + str(e) +fg.rs)\n",
    "    except Exception as e:\n",
    "        print(fg.red + f'ERROR! this url is probably wrong: {url}' + fg.rs)\n",
    "        print(fg.red + str(e) +fg.rs)\n",
    "    print(' ')\n",
    "    i=i+1"
   ]
  },
  {
   "cell_type": "markdown",
   "metadata": {},
   "source": [
    "## **Delete download video folder**"
   ]
  },
  {
   "cell_type": "code",
   "execution_count": 10,
   "metadata": {},
   "outputs": [],
   "source": [
    "if delete_videos:\n",
    "    del_folder(output_path)\n",
    "    print(f'🗑️ All videos on the {play_list} playlist were removed')"
   ]
  }
 ],
 "metadata": {
  "kernelspec": {
   "display_name": "venvPyTube",
   "language": "python",
   "name": "venvpytube"
  },
  "language_info": {
   "codemirror_mode": {
    "name": "ipython",
    "version": 3
   },
   "file_extension": ".py",
   "mimetype": "text/x-python",
   "name": "python",
   "nbconvert_exporter": "python",
   "pygments_lexer": "ipython3",
   "version": "3.7.8"
  }
 },
 "nbformat": 4,
 "nbformat_minor": 4
}
